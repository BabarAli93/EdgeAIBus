{
 "cells": [
  {
   "cell_type": "code",
   "execution_count": 4,
   "metadata": {},
   "outputs": [],
   "source": [
    "import os\n",
    "import sys\n",
    "import pandas as pd\n",
    "import numpy as np\n",
    "import matplotlib.pyplot as plt\n",
    "import json\n",
    "\n",
    "from ray.tune import ExperimentAnalysis\n",
    "\n",
    "notebook_path = os.getcwd()\n",
    "sys.path.append(os.path.abspath(os.path.join(notebook_path, '..')))\n",
    "\n",
    "from utils.constants import TRAIN_RESULTS_PATH\n",
    "%matplotlib inline"
   ]
  },
  {
   "cell_type": "code",
   "execution_count": null,
   "metadata": {},
   "outputs": [
    {
     "name": "stdout",
     "output_type": "stream",
     "text": [
      "Hello World!\n"
     ]
    }
   ],
   "source": [
    "experiments_info = [\n",
    "    {\n",
    "        \"containers\": 6,\n",
    "        \"legend\": \"IMPALA-6\",\n",
    "        \"algorithm\": \"IMPALA\",\n",
    "        \"trial\": \"IMPALA_SimEdgeEnv_c3861_00000_0_2024-10-13_14-12-14\"},\n",
    "    {\n",
    "        \"containers\": 12,\n",
    "        \"legend\": \"IMPALA-12\",\n",
    "        \"algorithm\": \"IMPALA\",\n",
    "        \"trial\": \"IMPALA_SimEdgeEnv_da1af_00000_0_2024-10-13_12-54-07\"\n",
    "    },\n",
    "    {\n",
    "        \"containers\": 18,\n",
    "        \"legend\": \"IMPALA-18\",\n",
    "        \"algorithm\": \"IMPALA\",\n",
    "        \"trial\": \"IMPALA_SimEdgeEnv_7f87e_00000_0_2024-10-14_20-14-13\"\n",
    "    }\n",
    "]"
   ]
  },
  {
   "cell_type": "code",
   "execution_count": null,
   "metadata": {},
   "outputs": [],
   "source": []
  }
 ],
 "metadata": {
  "kernelspec": {
   "display_name": "oskube-jup",
   "language": "python",
   "name": "oskube-jup"
  },
  "language_info": {
   "codemirror_mode": {
    "name": "ipython",
    "version": 3
   },
   "file_extension": ".py",
   "mimetype": "text/x-python",
   "name": "python",
   "nbconvert_exporter": "python",
   "pygments_lexer": "ipython3",
   "version": "3.10.13"
  }
 },
 "nbformat": 4,
 "nbformat_minor": 2
}
