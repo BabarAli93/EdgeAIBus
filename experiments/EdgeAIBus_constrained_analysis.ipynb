{
 "cells": [
  {
   "cell_type": "code",
   "execution_count": 2,
   "id": "b493326b",
   "metadata": {},
   "outputs": [],
   "source": [
    "import pandas as pd\n",
    "import numpy as np"
   ]
  },
  {
   "cell_type": "code",
   "execution_count": null,
   "id": "9af4d635",
   "metadata": {},
   "outputs": [],
   "source": [
    "eab_300 = pd.read_csv('/home/user_name/EdgeAIBus/eab_tpds_analysis/twelve_containers/eab_300mc.csv')\n",
    "eab_600 = pd.read_csv('/home/user_name/EdgeAIBus/eab_tpds_analysis/twelve_containers/eab_600mc.csv')\n",
    "eab_1000 = pd.read_csv('/home/user_name/EdgeAIBus/eab_tpds_analysis/twelve_containers/eab_1000mc.csv')"
   ]
  },
  {
   "cell_type": "code",
   "execution_count": null,
   "id": "4b7c8609",
   "metadata": {},
   "outputs": [],
   "source": [
    "msb_300 = pd.read_csv('/home/user_name/EdgeAIBus/eab_tpds_analysis/twelve_containers/msb_300mc.csv')\n",
    "msb_600 = pd.read_csv('/home/user_name/EdgeAIBus/eab_tpds_analysis/twelve_containers/msb_600mc.csv')\n",
    "msb_1000 = pd.read_csv('/home/user_name/EdgeAIBus/eab_tpds_analysis/twelve_containers/msb_1000mc.csv')"
   ]
  },
  {
   "cell_type": "code",
   "execution_count": null,
   "id": "98c122b5",
   "metadata": {},
   "outputs": [],
   "source": [
    "gko_300 = pd.read_csv('/home/user_name/EdgeAIBus/eab_tpds_analysis/twelve_containers/gko_300mc.csv')\n",
    "gko_600 = pd.read_csv('/home/user_name/EdgeAIBus/eab_tpds_analysis/twelve_containers/gko_600mc.csv')\n",
    "gko_1000 = pd.read_csv('/home/user_name/EdgeAIBus/eab_tpds_analysis/twelve_containers/gko_1000mc.csv')"
   ]
  },
  {
   "cell_type": "code",
   "execution_count": null,
   "id": "4dbb2d02",
   "metadata": {},
   "outputs": [],
   "source": [
    "ptst_300 = pd.read_csv('/home/user_name/EdgeAIBus/eab_tpds_analysis/ptst_300mc.csv')\n",
    "ptst_600 = pd.read_csv('/home/user_name/EdgeAIBus/eab_tpds_analysis/ptst_600mc.csv')\n",
    "ptst_1000 = pd.read_csv('/home/user_name/EdgeAIBus/eab_tpds_analysis/ptst_1000mc.csv')"
   ]
  },
  {
   "cell_type": "code",
   "execution_count": 6,
   "id": "d18dfe53",
   "metadata": {},
   "outputs": [],
   "source": [
    "def resource_analysis(df, allocated_cores):\n",
    "    \n",
    "    # Mean inference time in milliseconds\n",
    "    #mean_inf_time = round(np.mean(df['inference_time_ms']), 3)\n",
    "    mean_inf_time = round(np.mean(df['inference_time_sec']*1000), 3)\n",
    "\n",
    "\n",
    "    df.dropna(inplace=True)\n",
    "\n",
    "    # Mean CPU usage Percentage\n",
    "    total_duration_sec = df[\"Time\"].iloc[-1] - df[\"Time\"].iloc[0]\n",
    "    total_cpu_usec = df[\"CPU_usec_used\"].iloc[-1] - df[\"CPU_usec_used\"].iloc[0]\n",
    "    total_cpu_sec = total_cpu_usec / 1_000_000\n",
    "    cpu_usage_percent = (total_cpu_sec / (total_duration_sec * allocated_cores)) * 100\n",
    "    \n",
    "    # Mean memory usage in MB\n",
    "    mean_memory_MB = (df[\"Memory_Bytes\"].mean()) / (1024 ** 2)\n",
    "\n",
    "    # Total energy consumption in Joules\n",
    "    total_energy_uJ = df[\"Energy_uJ\"].iloc[-1] - df[\"Energy_uJ\"].iloc[0]\n",
    "    total_energy_J = total_energy_uJ / 1_000_000\n",
    "    \n",
    "    return {\n",
    "        \"mean_inf_time_ms\": mean_inf_time,\n",
    "        \"cpu_usage_percent\": cpu_usage_percent,\n",
    "        \"mean_memory_MB\": mean_memory_MB,\n",
    "        \"total_energy_J\": total_energy_J\n",
    "    }"
   ]
  },
  {
   "cell_type": "code",
   "execution_count": 13,
   "id": "488029d3",
   "metadata": {},
   "outputs": [],
   "source": [
    "stats_300 = resource_analysis(eab_300, 0.3)\n",
    "stats_600 = resource_analysis(eab_600, 0.6)\n",
    "stats_1000 = resource_analysis(eab_1000, 1.0)"
   ]
  },
  {
   "cell_type": "code",
   "execution_count": 4,
   "id": "dc5a644c",
   "metadata": {},
   "outputs": [],
   "source": [
    "stats_300 = resource_analysis(gko_300, 0.3)\n",
    "stats_600 = resource_analysis(gko_600, 0.6)\n",
    "stats_1000 = resource_analysis(gko_1000, 1.0)"
   ]
  },
  {
   "cell_type": "code",
   "execution_count": 7,
   "id": "3e522c50",
   "metadata": {},
   "outputs": [],
   "source": [
    "stats_300 = resource_analysis(ptst_300, 0.3)\n",
    "stats_600 = resource_analysis(ptst_600, 0.6)\n",
    "stats_1000 = resource_analysis(ptst_1000, 1.0)"
   ]
  },
  {
   "cell_type": "code",
   "execution_count": 8,
   "id": "f385d00c",
   "metadata": {},
   "outputs": [
    {
     "data": {
      "text/plain": [
       "{'mean_inf_time_ms': 732.919,\n",
       " 'cpu_usage_percent': 100.01266118006838,\n",
       " 'mean_memory_MB': 519.8535567490429,\n",
       " 'total_energy_J': -238936.335099}"
      ]
     },
     "execution_count": 8,
     "metadata": {},
     "output_type": "execute_result"
    }
   ],
   "source": [
    "stats_300"
   ]
  },
  {
   "cell_type": "code",
   "execution_count": 9,
   "id": "3258b297",
   "metadata": {},
   "outputs": [
    {
     "data": {
      "text/plain": [
       "{'mean_inf_time_ms': 250.978,\n",
       " 'cpu_usage_percent': 100.04256451612903,\n",
       " 'mean_memory_MB': 515.6286086309524,\n",
       " 'total_energy_J': 16601.482768}"
      ]
     },
     "execution_count": 9,
     "metadata": {},
     "output_type": "execute_result"
    }
   ],
   "source": [
    "stats_600"
   ]
  },
  {
   "cell_type": "code",
   "execution_count": 10,
   "id": "26d93c65",
   "metadata": {},
   "outputs": [
    {
     "data": {
      "text/plain": [
       "{'mean_inf_time_ms': 91.395,\n",
       " 'cpu_usage_percent': 99.97522103004292,\n",
       " 'mean_memory_MB': 510.0287358261339,\n",
       " 'total_energy_J': 7304.734413}"
      ]
     },
     "execution_count": 10,
     "metadata": {},
     "output_type": "execute_result"
    }
   ],
   "source": [
    "stats_1000"
   ]
  },
  {
   "cell_type": "code",
   "execution_count": null,
   "id": "70e738b0",
   "metadata": {},
   "outputs": [],
   "source": []
  }
 ],
 "metadata": {
  "kernelspec": {
   "display_name": "oskube-env",
   "language": "python",
   "name": "python3"
  },
  "language_info": {
   "codemirror_mode": {
    "name": "ipython",
    "version": 3
   },
   "file_extension": ".py",
   "mimetype": "text/x-python",
   "name": "python",
   "nbconvert_exporter": "python",
   "pygments_lexer": "ipython3",
   "version": "3.10.13"
  }
 },
 "nbformat": 4,
 "nbformat_minor": 5
}
